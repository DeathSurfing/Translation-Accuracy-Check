{
 "cells": [
  {
   "cell_type": "code",
   "execution_count": 6,
   "metadata": {},
   "outputs": [
    {
     "name": "stdout",
     "output_type": "stream",
     "text": [
      "Requirement already satisfied: scikit-learn in /Library/Frameworks/Python.framework/Versions/3.12/lib/python3.12/site-packages (1.5.2)\n",
      "Requirement already satisfied: numpy>=1.19.5 in /Library/Frameworks/Python.framework/Versions/3.12/lib/python3.12/site-packages (from scikit-learn) (2.1.1)\n",
      "Requirement already satisfied: scipy>=1.6.0 in /Library/Frameworks/Python.framework/Versions/3.12/lib/python3.12/site-packages (from scikit-learn) (1.14.1)\n",
      "Requirement already satisfied: joblib>=1.2.0 in /Library/Frameworks/Python.framework/Versions/3.12/lib/python3.12/site-packages (from scikit-learn) (1.4.2)\n",
      "Requirement already satisfied: threadpoolctl>=3.1.0 in /Library/Frameworks/Python.framework/Versions/3.12/lib/python3.12/site-packages (from scikit-learn) (3.5.0)\n",
      "Note: you may need to restart the kernel to use updated packages.\n",
      "Requirement already satisfied: nltk in /Library/Frameworks/Python.framework/Versions/3.12/lib/python3.12/site-packages (3.9.1)\n",
      "Requirement already satisfied: click in /Library/Frameworks/Python.framework/Versions/3.12/lib/python3.12/site-packages (from nltk) (8.1.7)\n",
      "Requirement already satisfied: joblib in /Library/Frameworks/Python.framework/Versions/3.12/lib/python3.12/site-packages (from nltk) (1.4.2)\n",
      "Requirement already satisfied: regex>=2021.8.3 in /Library/Frameworks/Python.framework/Versions/3.12/lib/python3.12/site-packages (from nltk) (2024.11.6)\n",
      "Requirement already satisfied: tqdm in /Library/Frameworks/Python.framework/Versions/3.12/lib/python3.12/site-packages (from nltk) (4.67.0)\n",
      "Note: you may need to restart the kernel to use updated packages.\n"
     ]
    },
    {
     "name": "stderr",
     "output_type": "stream",
     "text": [
      "UsageError: Line magic function `%pip3` not found.\n"
     ]
    }
   ],
   "source": [
    "%pip install -U scikit-learn\n",
    "%pip install -U nltk\n",
    "\n"
   ]
  },
  {
   "cell_type": "code",
   "execution_count": 2,
   "metadata": {},
   "outputs": [
    {
     "ename": "ModuleNotFoundError",
     "evalue": "No module named 'nltk'",
     "output_type": "error",
     "traceback": [
      "\u001b[0;31m---------------------------------------------------------------------------\u001b[0m",
      "\u001b[0;31mModuleNotFoundError\u001b[0m                       Traceback (most recent call last)",
      "Cell \u001b[0;32mIn[2], line 1\u001b[0m\n\u001b[0;32m----> 1\u001b[0m \u001b[38;5;28;01mimport\u001b[39;00m \u001b[38;5;21;01mnltk\u001b[39;00m\n\u001b[1;32m      2\u001b[0m \u001b[38;5;28;01mimport\u001b[39;00m \u001b[38;5;21;01msklearn\u001b[39;00m\n\u001b[1;32m      3\u001b[0m \u001b[38;5;28;01mfrom\u001b[39;00m \u001b[38;5;21;01mnltk\u001b[39;00m\u001b[38;5;21;01m.\u001b[39;00m\u001b[38;5;21;01mtranslate\u001b[39;00m\u001b[38;5;21;01m.\u001b[39;00m\u001b[38;5;21;01mbleu_score\u001b[39;00m \u001b[38;5;28;01mimport\u001b[39;00m sentence_bleu\n",
      "\u001b[0;31mModuleNotFoundError\u001b[0m: No module named 'nltk'"
     ]
    }
   ],
   "source": [
    "import nltk\n",
    "import sklearn\n",
    "from nltk.translate.bleu_score import sentence_bleu\n",
    "from nltk.translate.meteor_score import meteor_score\n",
    "from sklearn.feature_extraction.text import CountVectorizer\n",
    "from sklearn.metrics.pairwise import cosine_similarity\n",
    "from sentence_transformers import SentenceTransformer\n",
    "import numpy as np\n",
    "\n",
    "# Download NLTK data\n",
    "nltk.download('wordnet')\n",
    "nltk.download('punkt')\n",
    "\n",
    "# Define translation functions\n",
    "def machine_translate(text, source_lang=\"en\", target_lang=\"hi\"):\n",
    "    \"\"\"\n",
    "    Stub function for machine translation. Replace with an actual translation API or model.\n",
    "    \"\"\"\n",
    "    # Example: Call Google Translate API or use a local model\n",
    "    return text[::-1]  # Dummy translation (reverse string for demo)\n",
    "\n",
    "# Similarity Metrics\n",
    "def calculate_cosine_similarity(text1, text2):\n",
    "    vectorizer = CountVectorizer().fit_transform([text1, text2])\n",
    "    vectors = vectorizer.toarray()\n",
    "    return cosine_similarity(vectors)[0, 1]\n",
    "\n",
    "def calculate_bleu_score(reference, candidate):\n",
    "    reference_tokens = [nltk.word_tokenize(reference)]\n",
    "    candidate_tokens = nltk.word_tokenize(candidate)\n",
    "    return sentence_bleu(reference_tokens, candidate_tokens)\n",
    "\n",
    "def calculate_meteor_score(reference, candidate):\n",
    "    return meteor_score([reference], candidate)\n",
    "\n",
    "def calculate_bert_similarity(text1, text2, model):\n",
    "    embeddings = model.encode([text1, text2])\n",
    "    return cosine_similarity([embeddings[0]], [embeddings[1]])[0, 0]\n",
    "\n",
    "# Main Evaluation Function\n",
    "def evaluate_translation(source_text, human_translation, target_lang=\"hi\"):\n",
    "    # Generate machine translations\n",
    "    machine_translation_source = machine_translate(source_text, source_lang=\"en\", target_lang=target_lang)\n",
    "    machine_translation_human = machine_translate(human_translation, source_lang=target_lang, target_lang=\"en\")\n",
    "\n",
    "    # Initialize BERT model\n",
    "    bert_model = SentenceTransformer('all-MiniLM-L6-v2')\n",
    "\n",
    "    # Calculate similarity scores\n",
    "    scores = {\n",
    "        \"Cosine Similarity (A vs B')\": calculate_cosine_similarity(source_text, machine_translation_human),\n",
    "        \"Cosine Similarity (B vs A')\": calculate_cosine_similarity(human_translation, machine_translation_source),\n",
    "        \"BLEU Score (A vs B')\": calculate_bleu_score(source_text, machine_translation_human),\n",
    "        \"BLEU Score (B vs A')\": calculate_bleu_score(human_translation, machine_translation_source),\n",
    "        \"METEOR Score (A vs B')\": calculate_meteor_score(source_text, machine_translation_human),\n",
    "        \"METEOR Score (B vs A')\": calculate_meteor_score(human_translation, machine_translation_source),\n",
    "        \"BERT Similarity (A vs B')\": calculate_bert_similarity(source_text, machine_translation_human, bert_model),\n",
    "        \"BERT Similarity (B vs A')\": calculate_bert_similarity(human_translation, machine_translation_source, bert_model),\n",
    "    }\n",
    "\n",
    "    # Aggregate score\n",
    "    aggregate_score = np.mean(list(scores.values()))\n",
    "\n",
    "    return scores, aggregate_score\n",
    "\n",
    "# Example Inputs\n",
    "source_text = \"I'll go to Mumbai tomorrow\"\n",
    "human_translation = \"मैंकल म ुं बई गया था\"\n",
    "\n",
    "# Evaluate\n",
    "scores, aggregate_score = evaluate_translation(source_text, human_translation)\n",
    "\n",
    "# Output Results\n",
    "print(\"Detailed Scores:\")\n",
    "for metric, score in scores.items():\n",
    "    print(f\"{metric}: {score:.2f}\")\n",
    "\n",
    "print(f\"\\nAggregate Quality Score: {aggregate_score:.2f}\")\n"
   ]
  }
 ],
 "metadata": {
  "kernelspec": {
   "display_name": "base",
   "language": "python",
   "name": "python3"
  },
  "language_info": {
   "codemirror_mode": {
    "name": "ipython",
    "version": 3
   },
   "file_extension": ".py",
   "mimetype": "text/x-python",
   "name": "python",
   "nbconvert_exporter": "python",
   "pygments_lexer": "ipython3",
   "version": "3.12.6"
  }
 },
 "nbformat": 4,
 "nbformat_minor": 2
}
